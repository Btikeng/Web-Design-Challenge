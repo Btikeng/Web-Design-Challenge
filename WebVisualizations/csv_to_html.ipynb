{
 "metadata": {
  "language_info": {
   "codemirror_mode": {
    "name": "ipython",
    "version": 3
   },
   "file_extension": ".py",
   "mimetype": "text/x-python",
   "name": "python",
   "nbconvert_exporter": "python",
   "pygments_lexer": "ipython3",
   "version": "3.8.5"
  },
  "orig_nbformat": 2,
  "kernelspec": {
   "name": "python385jvsc74a57bd08267edf1c96dbac19b6e8629ae5cf6cb3ca48f41787e883ee74966df8666ca6e",
   "display_name": "Python 3.8.5 64-bit ('base': conda)"
  }
 },
 "nbformat": 4,
 "nbformat_minor": 2,
 "cells": [
  {
   "cell_type": "code",
   "execution_count": 2,
   "metadata": {},
   "outputs": [],
   "source": [
    "# Python program to convert \n",
    "# CSV to HTML Table\n",
    "  \n",
    "  \n",
    "import pandas as pd\n",
    "  \n",
    "# to read csv file named \"samplee\"\n",
    "a = pd.read_csv(\"assets/cities.csv\")\n",
    "  \n",
    "# to save as html file\n",
    "# named as \"Table\"\n",
    "a.to_html(\"cities.html\")\n",
    "  \n",
    "# assign it to a \n",
    "# variable (string)\n",
    "html_file = a.to_html()"
   ]
  },
  {
   "cell_type": "code",
   "execution_count": null,
   "metadata": {},
   "outputs": [],
   "source": []
  }
 ]
}